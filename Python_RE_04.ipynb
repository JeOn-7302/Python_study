{
 "cells": [
  {
   "cell_type": "code",
   "execution_count": 1,
   "id": "ea50d40c",
   "metadata": {},
   "outputs": [],
   "source": [
    "def count_str(items):\n",
    "    total = 0\n",
    "    for item in items:\n",
    "        if isinstance(item, str):\n",
    "            total += 1\n",
    "    return total"
   ]
  },
  {
   "cell_type": "code",
   "execution_count": 2,
   "id": "b7426dae",
   "metadata": {},
   "outputs": [
    {
     "data": {
      "text/plain": [
       "1"
      ]
     },
     "execution_count": 2,
     "metadata": {},
     "output_type": "execute_result"
    }
   ],
   "source": [
    "count_str(['p', 2, 4.3, None])"
   ]
  },
  {
   "cell_type": "code",
   "execution_count": 3,
   "id": "cff03999",
   "metadata": {},
   "outputs": [
    {
     "data": {
      "text/plain": [
       "2"
      ]
     },
     "execution_count": 3,
     "metadata": {},
     "output_type": "execute_result"
    }
   ],
   "source": [
    "count_str({'p', 2, 4.3, True, 'True', None})"
   ]
  },
  {
   "cell_type": "code",
   "execution_count": 4,
   "id": "2cac13ec",
   "metadata": {},
   "outputs": [],
   "source": [
    "def count_str(items):\n",
    "    total = 0\n",
    "    for item in items:\n",
    "        if isinstance(item,str):\n",
    "            if len(item) > 2 :\n",
    "                total += 1\n",
    "    return total"
   ]
  },
  {
   "cell_type": "code",
   "execution_count": 5,
   "id": "a1007b46",
   "metadata": {},
   "outputs": [
    {
     "data": {
      "text/plain": [
       "2"
      ]
     },
     "execution_count": 5,
     "metadata": {},
     "output_type": "execute_result"
    }
   ],
   "source": [
    "count_str([1, '#hello', '', 'python', 'go'])"
   ]
  },
  {
   "cell_type": "code",
   "execution_count": 6,
   "id": "785d5d86",
   "metadata": {},
   "outputs": [
    {
     "data": {
      "text/plain": [
       "1"
      ]
     },
     "execution_count": 6,
     "metadata": {},
     "output_type": "execute_result"
    }
   ],
   "source": [
    "count_str([1, 2, 3, 'python'])"
   ]
  },
  {
   "cell_type": "code",
   "execution_count": 9,
   "id": "a4c06abd",
   "metadata": {},
   "outputs": [],
   "source": [
    "def remove_duplicates(items):\n",
    "    return list(set(items))"
   ]
  },
  {
   "cell_type": "code",
   "execution_count": 10,
   "id": "f1ffef4c",
   "metadata": {},
   "outputs": [
    {
     "data": {
      "text/plain": [
       "[1, 2, 3, 4, 5]"
      ]
     },
     "execution_count": 10,
     "metadata": {},
     "output_type": "execute_result"
    }
   ],
   "source": [
    "remove_duplicates([1, 5, 3, 2, 2, 4, 2, 4])"
   ]
  },
  {
   "cell_type": "code",
   "execution_count": 11,
   "id": "d0156a48",
   "metadata": {},
   "outputs": [
    {
     "data": {
      "text/plain": [
       "[1]"
      ]
     },
     "execution_count": 11,
     "metadata": {},
     "output_type": "execute_result"
    }
   ],
   "source": [
    "remove_duplicates([1, 1, 1, 1])"
   ]
  },
  {
   "cell_type": "code",
   "execution_count": 12,
   "id": "acdea02e",
   "metadata": {},
   "outputs": [],
   "source": [
    "def is_distinct(items):\n",
    "    return len(items) == len(set(items))"
   ]
  },
  {
   "cell_type": "code",
   "execution_count": 14,
   "id": "06bdc9cd",
   "metadata": {},
   "outputs": [
    {
     "data": {
      "text/plain": [
       "True"
      ]
     },
     "execution_count": 14,
     "metadata": {},
     "output_type": "execute_result"
    }
   ],
   "source": [
    "is_distinct([1, 2, 3])"
   ]
  },
  {
   "cell_type": "code",
   "execution_count": 15,
   "id": "38390b34",
   "metadata": {},
   "outputs": [
    {
     "data": {
      "text/plain": [
       "False"
      ]
     },
     "execution_count": 15,
     "metadata": {},
     "output_type": "execute_result"
    }
   ],
   "source": [
    "is_distinct([1, 2, 3, 3])"
   ]
  },
  {
   "cell_type": "code",
   "execution_count": 16,
   "id": "40f3f60f",
   "metadata": {},
   "outputs": [],
   "source": [
    "def function(idx, l=[]):\n",
    "    for i in range(idx):\n",
    "        l.append(i ** 3)\n",
    "    print(l)"
   ]
  },
  {
   "cell_type": "code",
   "execution_count": 17,
   "id": "c734ef8e",
   "metadata": {},
   "outputs": [
    {
     "name": "stdout",
     "output_type": "stream",
     "text": [
      "[0, 1, 8]\n",
      "['a', 'b', 'c', 0, 1, 8, 27, 64]\n",
      "[0, 1, 8, 0, 1, 8, 27, 64, 125]\n"
     ]
    }
   ],
   "source": [
    "function(3)\n",
    "function(5, ['a', 'b', 'c'])\n",
    "function(6)"
   ]
  },
  {
   "cell_type": "code",
   "execution_count": 18,
   "id": "79c7f4ff",
   "metadata": {},
   "outputs": [],
   "source": [
    "def function(*args, **kwargs):\n",
    "    print(args, kwargs)"
   ]
  },
  {
   "cell_type": "code",
   "execution_count": 19,
   "id": "e745401d",
   "metadata": {
    "scrolled": true
   },
   "outputs": [
    {
     "name": "stdout",
     "output_type": "stream",
     "text": [
      "(3, 4) {}\n",
      "() {'x': 3, 'y': 4}\n",
      "(1, 2) {'x': 3, 'y': 4}\n"
     ]
    }
   ],
   "source": [
    "function(3, 4)\n",
    "function(x=3, y=4)\n",
    "function(1, 2, x=3, y=4)"
   ]
  },
  {
   "cell_type": "code",
   "execution_count": 20,
   "id": "90c67996",
   "metadata": {},
   "outputs": [],
   "source": [
    "def is_palindrome(string):\n",
    "    inverse = string[::-1]\n",
    "    if string == inverse:\n",
    "        return True\n",
    "    else:\n",
    "        return False"
   ]
  },
  {
   "cell_type": "code",
   "execution_count": 21,
   "id": "95dabc9b",
   "metadata": {},
   "outputs": [
    {
     "data": {
      "text/plain": [
       "True"
      ]
     },
     "execution_count": 21,
     "metadata": {},
     "output_type": "execute_result"
    }
   ],
   "source": [
    "is_palindrome('level')"
   ]
  },
  {
   "cell_type": "code",
   "execution_count": 22,
   "id": "1048f9b1",
   "metadata": {},
   "outputs": [
    {
     "data": {
      "text/plain": [
       "False"
      ]
     },
     "execution_count": 22,
     "metadata": {},
     "output_type": "execute_result"
    }
   ],
   "source": [
    "is_palindrome('python')"
   ]
  },
  {
   "cell_type": "code",
   "execution_count": 25,
   "id": "55b70097",
   "metadata": {},
   "outputs": [
    {
     "name": "stdout",
     "output_type": "stream",
     "text": [
      "[7, 7, 10]\n"
     ]
    }
   ],
   "source": [
    "stocks = ['playway', 'boombit', 'cd projekt']\n",
    "\n",
    "length = list(map(lambda stock:len(stock),stocks))\n",
    "\n",
    "print(length)"
   ]
  },
  {
   "cell_type": "code",
   "execution_count": 30,
   "id": "c9958dbf",
   "metadata": {},
   "outputs": [],
   "source": [
    "def sort_list(items):\n",
    "    return sorted(items,key=lambda item: item[1])"
   ]
  },
  {
   "cell_type": "code",
   "execution_count": 31,
   "id": "4550e1a4",
   "metadata": {},
   "outputs": [
    {
     "data": {
      "text/plain": [
       "[(4, 1), (4, 2), (1, 3), (0, 7)]"
      ]
     },
     "execution_count": 31,
     "metadata": {},
     "output_type": "execute_result"
    }
   ],
   "source": [
    "sort_list([(1, 3), (4, 1), (4, 2), (0, 7)])"
   ]
  },
  {
   "cell_type": "code",
   "execution_count": 32,
   "id": "f8af90ac",
   "metadata": {},
   "outputs": [
    {
     "data": {
      "text/plain": [
       "[('g', 'a'), ('a', 'b'), ('z', 'd')]"
      ]
     },
     "execution_count": 32,
     "metadata": {},
     "output_type": "execute_result"
    }
   ],
   "source": [
    "sort_list([('a', 'b'), ('g', 'a'), ('z', 'd')])"
   ]
  },
  {
   "cell_type": "code",
   "execution_count": 33,
   "id": "f533df20",
   "metadata": {},
   "outputs": [
    {
     "name": "stdout",
     "output_type": "stream",
     "text": [
      "[(1, 4), (3, 4), (2, 5), (6, 1)]\n"
     ]
    }
   ],
   "source": [
    "items = [(3, 4), (2, 5), (1, 4), (6, 1)]\n",
    " \n",
    "items.sort(key=lambda item: item[0]**2 + item[1]**2)\n",
    " \n",
    " \n",
    "print(items)"
   ]
  },
  {
   "cell_type": "code",
   "execution_count": 34,
   "id": "42858257",
   "metadata": {},
   "outputs": [
    {
     "name": "stdout",
     "output_type": "stream",
     "text": [
      "[{'index': 'sWIG80', 'name': 'BBT', 'price': 22}, {'index': 'mWIG40', 'name': 'TEN', 'price': 304}, {'index': 'mWIG40', 'name': 'PLW', 'price': 309}]\n"
     ]
    }
   ],
   "source": [
    "stocks = [\n",
    "    {'index': 'mWIG40', 'name': 'TEN', 'price': 304},\n",
    "    {'index': 'mWIG40', 'name': 'PLW', 'price': 309},\n",
    "    {'index': 'sWIG80', 'name': 'BBT', 'price': 22}\n",
    "]\n",
    " \n",
    "stocks.sort(key=lambda item: item['price'])\n",
    " \n",
    " \n",
    "print(stocks)"
   ]
  },
  {
   "cell_type": "code",
   "execution_count": 36,
   "id": "2662957a",
   "metadata": {},
   "outputs": [],
   "source": [
    "stocks = [\n",
    "    {'index': 'mWIG40', 'name': 'TEN', 'price': 304},\n",
    "    {'index': 'mWIG40', 'name': 'PLW', 'price': 309},\n",
    "    {'index': 'sWIG80', 'name': 'BBT', 'price': 22}\n",
    "]"
   ]
  },
  {
   "cell_type": "code",
   "execution_count": 37,
   "id": "359bae7e",
   "metadata": {},
   "outputs": [
    {
     "name": "stdout",
     "output_type": "stream",
     "text": [
      "[{'index': 'mWIG40', 'name': 'TEN', 'price': 304}, {'index': 'mWIG40', 'name': 'PLW', 'price': 309}]\n"
     ]
    }
   ],
   "source": [
    "print(list(filter(lambda item: item['index'] == 'mWIG40', stocks)))"
   ]
  },
  {
   "cell_type": "code",
   "execution_count": 38,
   "id": "0f41a250",
   "metadata": {},
   "outputs": [
    {
     "name": "stdout",
     "output_type": "stream",
     "text": [
      "[True, True, False]\n"
     ]
    }
   ],
   "source": [
    "print(list(map(lambda x: x['index'] == 'mWIG40', stocks)))"
   ]
  },
  {
   "cell_type": "code",
   "execution_count": 39,
   "id": "f0b19323",
   "metadata": {},
   "outputs": [
    {
     "name": "stdout",
     "output_type": "stream",
     "text": [
      "['P1', 'R2', 'D4', 'F6']\n"
     ]
    }
   ],
   "source": [
    "items = ['P-1', 'R-2', 'D-4', 'F-6']\n",
    " \n",
    " \n",
    "print(list(map(lambda item: item.replace('-', ''), items)))"
   ]
  },
  {
   "cell_type": "code",
   "execution_count": 40,
   "id": "5a2c0641",
   "metadata": {},
   "outputs": [
    {
     "name": "stdout",
     "output_type": "stream",
     "text": [
      "[4, 0, 0, 2, 2]\n"
     ]
    }
   ],
   "source": [
    "num1 = [4, 2, 6, 2, 11]\n",
    "num2 = [5, 2, 3, 3, 9]\n",
    " \n",
    " \n",
    "print(list(map(lambda x, y: x % y, num1, num2)))"
   ]
  },
  {
   "cell_type": "code",
   "execution_count": 41,
   "id": "4428ed78",
   "metadata": {},
   "outputs": [],
   "source": [
    "def file_gen(fnames):\n",
    "    for fname in fnames:\n",
    "        if fname.endswith('.txt'):\n",
    "            yield fname"
   ]
  },
  {
   "cell_type": "code",
   "execution_count": 42,
   "id": "fefa04f0",
   "metadata": {},
   "outputs": [],
   "source": [
    "fnames = ['data1.txt', 'data2.txt', 'data3.txt', 'view.jpg']"
   ]
  },
  {
   "cell_type": "code",
   "execution_count": 43,
   "id": "01770d0b",
   "metadata": {},
   "outputs": [
    {
     "data": {
      "text/plain": [
       "['data1.txt', 'data2.txt', 'data3.txt']"
      ]
     },
     "execution_count": 43,
     "metadata": {},
     "output_type": "execute_result"
    }
   ],
   "source": [
    "list(file_gen(fnames))"
   ]
  },
  {
   "cell_type": "code",
   "execution_count": 44,
   "id": "60737854",
   "metadata": {},
   "outputs": [],
   "source": [
    "def enum(items):\n",
    "    idx = 0\n",
    "    for item in items:\n",
    "        yield (idx, item)\n",
    "        idx += 1"
   ]
  },
  {
   "cell_type": "code",
   "execution_count": 45,
   "id": "e1929be7",
   "metadata": {},
   "outputs": [
    {
     "data": {
      "text/plain": [
       "[(0, 'TEN'), (1, 'CDR'), (2, 'BBT')]"
      ]
     },
     "execution_count": 45,
     "metadata": {},
     "output_type": "execute_result"
    }
   ],
   "source": [
    "list(enum(['TEN', 'CDR', 'BBT']))"
   ]
  },
  {
   "cell_type": "code",
   "execution_count": 46,
   "id": "e11bb10e",
   "metadata": {},
   "outputs": [],
   "source": [
    "def dayname(index):\n",
    "    days = ['Mon', 'Tue', 'Wed', 'Thu', 'Fri', 'Sat', 'Sun']\n",
    "    yield days[index - 1]\n",
    "    yield days[index]\n",
    "    yield days[(index + 1) % 7]"
   ]
  },
  {
   "cell_type": "code",
   "execution_count": 47,
   "id": "69461b00",
   "metadata": {},
   "outputs": [],
   "source": [
    "days = ['Mon', 'Tue', 'Wed', 'Thu', 'Fri', 'Sat', 'Sun']"
   ]
  },
  {
   "cell_type": "code",
   "execution_count": null,
   "id": "24c440ad",
   "metadata": {},
   "outputs": [],
   "source": []
  }
 ],
 "metadata": {
  "kernelspec": {
   "display_name": "Python 3 (ipykernel)",
   "language": "python",
   "name": "python3"
  },
  "language_info": {
   "codemirror_mode": {
    "name": "ipython",
    "version": 3
   },
   "file_extension": ".py",
   "mimetype": "text/x-python",
   "name": "python",
   "nbconvert_exporter": "python",
   "pygments_lexer": "ipython3",
   "version": "3.9.12"
  }
 },
 "nbformat": 4,
 "nbformat_minor": 5
}
