{
 "cells": [
  {
   "cell_type": "code",
   "execution_count": 5,
   "id": "f45a8cf5",
   "metadata": {},
   "outputs": [
    {
     "data": {
      "text/plain": [
       "(('AAPL.US', 'IBM.US', 'MSFT.US'), ('HD.US', 'GS.US', 'NKE.US'))"
      ]
     },
     "execution_count": 5,
     "metadata": {},
     "output_type": "execute_result"
    }
   ],
   "source": [
    "dji1 = ('AAPL.US', 'IBM.US', 'MSFT.US')\n",
    "dji2 = ('HD.US', 'GS.US', 'NKE.US')\n",
    "\n",
    "result=(dji1,dji2)\n",
    "result"
   ]
  },
  {
   "cell_type": "code",
   "execution_count": 6,
   "id": "74c7d9f1",
   "metadata": {},
   "outputs": [],
   "source": [
    "stocks = (\n",
    "    ('Apple Inc', ('AAPL.US', 310)),\n",
    "    ('Microsoft Corp', ('MSFT.US', 184)),\n",
    ")"
   ]
  },
  {
   "cell_type": "code",
   "execution_count": 7,
   "id": "faf4ebf1",
   "metadata": {},
   "outputs": [
    {
     "name": "stdout",
     "output_type": "stream",
     "text": [
      "Ascending: (('John', 18), ('Monica', 19), ('Tom', 21))\n",
      "Descending: (('Tom', 21), ('Monica', 19), ('John', 18))\n"
     ]
    }
   ],
   "source": [
    "info = (('Monica', 19), ('Tom', 21), ('John', 18))\n",
    "\n",
    "asc = tuple(sorted(info, key=lambda item: item[1]))\n",
    "desc = tuple(sorted(info, key=lambda item: item[1], reverse=True))\n",
    "\n",
    "print(f'Ascending: {asc}')\n",
    "print(f'Descending: {desc}')"
   ]
  },
  {
   "cell_type": "code",
   "execution_count": 14,
   "id": "25119fdf",
   "metadata": {},
   "outputs": [
    {
     "name": "stdout",
     "output_type": "stream",
     "text": [
      "['Los Angeles', 'New York', 'Chicago', 'Houston']\n"
     ]
    }
   ],
   "source": [
    "cities = ['Los Angeles', 'New York', 'Chicago']\n",
    "\n",
    "cities.append('Houston')\n",
    "\n",
    "print(cities)"
   ]
  },
  {
   "cell_type": "code",
   "execution_count": 17,
   "id": "49d7efa5",
   "metadata": {},
   "outputs": [
    {
     "name": "stdout",
     "output_type": "stream",
     "text": [
      "Number of occurrences: 3\n"
     ]
    }
   ],
   "source": [
    "idx = ['001', '002', '001', '003', '001']\n",
    "\n",
    "print(f\"Number of occurrences: {idx.count('001')}\")"
   ]
  },
  {
   "cell_type": "code",
   "execution_count": 19,
   "id": "8ed7c123",
   "metadata": {},
   "outputs": [
    {
     "name": "stdout",
     "output_type": "stream",
     "text": [
      "['a', 'g', 'h', 'i', 'm', 'n', 'o', 'p', 'r', 't', 'y']\n"
     ]
    }
   ],
   "source": [
    "text = 'Python programming'\n",
    "text = text.lower()\n",
    "\n",
    "characters = list(set(text))\n",
    "characters.remove(' ')\n",
    "characters.sort()\n",
    "\n",
    "print(characters)"
   ]
  },
  {
   "cell_type": "code",
   "execution_count": 26,
   "id": "6d4d36c3",
   "metadata": {},
   "outputs": [
    {
     "name": "stdout",
     "output_type": "stream",
     "text": [
      "['phone.jpg', 'view.jpg', 'bear.jpg']\n"
     ]
    }
   ],
   "source": [
    "filenames = ['view.jpg', 'bear.jpg', 'ball.png']\n",
    "\n",
    "filenames.insert(0,'phone.jpg')\n",
    "filenames.remove('ball.png')\n",
    "\n",
    "print(filenames)"
   ]
  },
  {
   "cell_type": "code",
   "execution_count": 28,
   "id": "09fcd35b",
   "metadata": {},
   "outputs": [
    {
     "name": "stdout",
     "output_type": "stream",
     "text": [
      "['3984', '9042', '4829', '2380', '4231', '5234', '1345', '2455']\n"
     ]
    }
   ],
   "source": [
    "day1 = ['3984', '9042', '4829', '2380']\n",
    "day2 = ['4231', '5234', '1345', '2455']\n",
    "\n",
    "day1.extend(day2)\n",
    "print(day1)"
   ]
  },
  {
   "cell_type": "code",
   "execution_count": 31,
   "id": "02ccea35",
   "metadata": {},
   "outputs": [
    {
     "name": "stdout",
     "output_type": "stream",
     "text": [
      "#summer#time#vibes\n"
     ]
    }
   ],
   "source": [
    "hashtags = ['summer', 'time', 'vibes']\n",
    "print('#'+'#'.join(hashtags))"
   ]
  },
  {
   "cell_type": "code",
   "execution_count": 33,
   "id": "f86d5e94",
   "metadata": {
    "scrolled": true
   },
   "outputs": [
    {
     "name": "stdout",
     "output_type": "stream",
     "text": [
      "{'USA': 'Washington', 'Germany': 'Berlin', 'Austria': 'Vienna'}\n"
     ]
    }
   ],
   "source": [
    "capitals={ 'USA': 'Washington','Germany': 'Berlin','Austria': 'Vienna'}\n",
    "\n",
    "print(capitals)"
   ]
  },
  {
   "cell_type": "code",
   "execution_count": 37,
   "id": "50e85439",
   "metadata": {},
   "outputs": [],
   "source": [
    "capitals = {\n",
    "    'USA': 'Washington',\n",
    "    'Germany': 'Berlin',\n",
    "    'Austria': 'Vienna',\n",
    "}"
   ]
  },
  {
   "cell_type": "code",
   "execution_count": 38,
   "id": "5bd2f40f",
   "metadata": {},
   "outputs": [
    {
     "name": "stdout",
     "output_type": "stream",
     "text": [
      "dict_keys(['USA', 'Germany', 'Austria'])\n"
     ]
    }
   ],
   "source": [
    "print(capitals.keys())"
   ]
  },
  {
   "cell_type": "code",
   "execution_count": 39,
   "id": "86a6c624",
   "metadata": {
    "scrolled": true
   },
   "outputs": [
    {
     "name": "stdout",
     "output_type": "stream",
     "text": [
      "dict_values(['Washington', 'Berlin', 'Vienna'])\n"
     ]
    }
   ],
   "source": [
    "print(capitals.values())"
   ]
  },
  {
   "cell_type": "code",
   "execution_count": 40,
   "id": "849d7c0f",
   "metadata": {},
   "outputs": [
    {
     "name": "stdout",
     "output_type": "stream",
     "text": [
      "dict_items([('USA', 'Washington'), ('Germany', 'Berlin'), ('Austria', 'Vienna')])\n"
     ]
    }
   ],
   "source": [
    "print(capitals.items())"
   ]
  },
  {
   "cell_type": "code",
   "execution_count": 43,
   "id": "c6afead5",
   "metadata": {},
   "outputs": [
    {
     "name": "stdout",
     "output_type": "stream",
     "text": [
      "Vienna\n"
     ]
    }
   ],
   "source": [
    "print(capitals.get('Austria'))"
   ]
  },
  {
   "cell_type": "code",
   "execution_count": 50,
   "id": "efb96b78",
   "metadata": {},
   "outputs": [],
   "source": [
    "stocks = {\n",
    "    'MSFT.US': {'Microsoft Corp': 184},\n",
    "    'AAPL.US': {'Apple Inc': 310},\n",
    "    'MMM.US': {'3M Co': 148}\n",
    "}"
   ]
  },
  {
   "cell_type": "code",
   "execution_count": 45,
   "id": "73582969",
   "metadata": {},
   "outputs": [
    {
     "name": "stdout",
     "output_type": "stream",
     "text": [
      "{'Apple Inc': 310}\n"
     ]
    }
   ],
   "source": [
    "print(stocks['AAPL.US'])"
   ]
  },
  {
   "cell_type": "code",
   "execution_count": 47,
   "id": "6f161954",
   "metadata": {},
   "outputs": [
    {
     "name": "stdout",
     "output_type": "stream",
     "text": [
      "184\n"
     ]
    }
   ],
   "source": [
    "print(stocks['MSFT.US']['Microsoft Corp'])"
   ]
  },
  {
   "cell_type": "code",
   "execution_count": 49,
   "id": "e45242e4",
   "metadata": {
    "scrolled": true
   },
   "outputs": [
    {
     "name": "stdout",
     "output_type": "stream",
     "text": [
      "{'Microsoft Corp': 190}\n"
     ]
    }
   ],
   "source": [
    "stocks['MSFT.US']['Microsoft Corp'] = 190\n",
    "print(stocks['MSFT.US'])"
   ]
  },
  {
   "cell_type": "code",
   "execution_count": 52,
   "id": "d7884a88",
   "metadata": {},
   "outputs": [
    {
     "name": "stdout",
     "output_type": "stream",
     "text": [
      "dict_values([{'Microsoft Corp': 184}, {'Apple Inc': 310}, {'3M Co': 148}, {'Visa Inc': 185}])\n"
     ]
    }
   ],
   "source": [
    "stocks['V.US'] = {'Visa Inc': 185}\n",
    "print(stocks.values())"
   ]
  },
  {
   "cell_type": "code",
   "execution_count": 53,
   "id": "5f738607",
   "metadata": {},
   "outputs": [],
   "source": [
    "tickers = [\n",
    "    'AAPL.US',\n",
    "    'AXP.US',\n",
    "    'BA.US',\n",
    "    'CAT.US',\n",
    "    'CSCO.US',\n",
    "    'CVX.US',\n",
    "    'DIS.US',\n",
    "    'DOW.US',\n",
    "    'GS.US',\n",
    "    'HD.US',\n",
    "    'IBM.US',\n",
    "    'INTC.US',\n",
    "]"
   ]
  },
  {
   "cell_type": "code",
   "execution_count": 54,
   "id": "73df073d",
   "metadata": {
    "scrolled": true
   },
   "outputs": [
    {
     "name": "stdout",
     "output_type": "stream",
     "text": [
      "[(0, 'AAPL.US'), (1, 'AXP.US'), (2, 'BA.US'), (3, 'CAT.US'), (4, 'CSCO.US'), (5, 'CVX.US'), (6, 'DIS.US'), (7, 'DOW.US'), (8, 'GS.US'), (9, 'HD.US'), (10, 'IBM.US'), (11, 'INTC.US')]\n"
     ]
    }
   ],
   "source": [
    "print(list(enumerate(tickers)))"
   ]
  },
  {
   "cell_type": "code",
   "execution_count": 55,
   "id": "ee702bef",
   "metadata": {},
   "outputs": [
    {
     "name": "stdout",
     "output_type": "stream",
     "text": [
      "{0: 'AAPL.US', 1: 'AXP.US', 2: 'BA.US', 3: 'CAT.US', 4: 'CSCO.US', 5: 'CVX.US', 6: 'DIS.US', 7: 'DOW.US', 8: 'GS.US', 9: 'HD.US', 10: 'IBM.US', 11: 'INTC.US'}\n"
     ]
    }
   ],
   "source": [
    "print(dict(enumerate(tickers)))"
   ]
  },
  {
   "cell_type": "code",
   "execution_count": 56,
   "id": "45a52144",
   "metadata": {},
   "outputs": [],
   "source": [
    "project_ids = {\n",
    "    '01': 'open', \n",
    "    '03': 'in progress',\n",
    "    '05': 'in progress',\n",
    "    '04': 'completed'\n",
    "}"
   ]
  },
  {
   "cell_type": "code",
   "execution_count": 57,
   "id": "16b08de9",
   "metadata": {},
   "outputs": [
    {
     "name": "stdout",
     "output_type": "stream",
     "text": [
      "['completed', 'in progress', 'open']\n"
     ]
    }
   ],
   "source": [
    "result = list(set(project_ids.values()))\n",
    "result.sort()\n",
    "\n",
    "print(result)"
   ]
  },
  {
   "cell_type": "code",
   "execution_count": 58,
   "id": "161c4161",
   "metadata": {},
   "outputs": [
    {
     "name": "stdout",
     "output_type": "stream",
     "text": [
      "{'site': 'e-smartdata.org', 'type': 'organic'}\n"
     ]
    }
   ],
   "source": [
    "stats = {'site': 'e-smartdata.org', 'traffic': 100, 'type': 'organic'}\n",
    " \n",
    "del stats['traffic']\n",
    "print(stats)"
   ]
  },
  {
   "cell_type": "code",
   "execution_count": 59,
   "id": "1ab4c5c5",
   "metadata": {},
   "outputs": [
    {
     "name": "stdout",
     "output_type": "stream",
     "text": [
      "indefinite\n"
     ]
    }
   ],
   "source": [
    "users = {'001': 'Mark', '002': 'Monica', '003': 'Jacob'} \n",
    "print(users.get('004', 'indefinite'))"
   ]
  }
 ],
 "metadata": {
  "kernelspec": {
   "display_name": "Python 3 (ipykernel)",
   "language": "python",
   "name": "python3"
  },
  "language_info": {
   "codemirror_mode": {
    "name": "ipython",
    "version": 3
   },
   "file_extension": ".py",
   "mimetype": "text/x-python",
   "name": "python",
   "nbconvert_exporter": "python",
   "pygments_lexer": "ipython3",
   "version": "3.9.12"
  }
 },
 "nbformat": 4,
 "nbformat_minor": 5
}
