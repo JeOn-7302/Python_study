{
 "cells": [
  {
   "cell_type": "code",
   "execution_count": 1,
   "id": "5418ca4b",
   "metadata": {},
   "outputs": [
    {
     "name": "stdout",
     "output_type": "stream",
     "text": [
      "YES\n"
     ]
    }
   ],
   "source": [
    "filename = '01012020_sales.xlsx'\n",
    "\n",
    "if filename.endswith('xlsx'):\n",
    "    print('YES')\n",
    "else:\n",
    "    print('NO')"
   ]
  },
  {
   "cell_type": "code",
   "execution_count": 2,
   "id": "f4271e5a",
   "metadata": {},
   "outputs": [
    {
     "name": "stdout",
     "output_type": "stream",
     "text": [
      "YES\n"
     ]
    }
   ],
   "source": [
    "code = 'DSVNDOICSN'\n",
    " \n",
    "if code.isupper():\n",
    "    print('YES')"
   ]
  },
  {
   "cell_type": "code",
   "execution_count": 3,
   "id": "2b7d8a26",
   "metadata": {},
   "outputs": [
    {
     "name": "stdout",
     "output_type": "stream",
     "text": [
      "NO\n"
     ]
    }
   ],
   "source": [
    "number = 1.0\n",
    " \n",
    "if isinstance(number, int):\n",
    "    print('YES')\n",
    "else:\n",
    "    print('NO')"
   ]
  },
  {
   "cell_type": "code",
   "execution_count": 4,
   "id": "99119616",
   "metadata": {},
   "outputs": [
    {
     "name": "stdout",
     "output_type": "stream",
     "text": [
      "Password correct\n"
     ]
    }
   ],
   "source": [
    "password = 'cskdnjcasa#!'\n",
    "\n",
    "if len(password)>=11:\n",
    "    print('Password correct')\n",
    "else:\n",
    "    print('Password too short')"
   ]
  },
  {
   "cell_type": "code",
   "execution_count": 5,
   "id": "58f91a68",
   "metadata": {},
   "outputs": [
    {
     "name": "stdout",
     "output_type": "stream",
     "text": [
      "Password correct\n"
     ]
    }
   ],
   "source": [
    "password = 'cskdnjcasa#!'\n",
    "\n",
    "if len(password)>=11 and '!' in password:\n",
    "    print('Password correct')\n",
    "else:\n",
    "    print('Password too short')"
   ]
  },
  {
   "cell_type": "code",
   "execution_count": 6,
   "id": "c02244a5",
   "metadata": {},
   "outputs": [
    {
     "name": "stdout",
     "output_type": "stream",
     "text": [
      "['02134', '24253', '02135']\n"
     ]
    }
   ],
   "source": [
    "project_ids = ['02134', '24253']\n",
    "project_id = '02135'\n",
    "\n",
    "if not project_id in project_ids:\n",
    "    project_ids.append(project_id)\n",
    "    \n",
    "print(project_ids)"
   ]
  },
  {
   "cell_type": "code",
   "execution_count": 7,
   "id": "915a393c",
   "metadata": {},
   "outputs": [
    {
     "name": "stdout",
     "output_type": "stream",
     "text": [
      "{'01': 'open', '02': 'new', '03': 'in progress', '04': 'completed'}\n"
     ]
    }
   ],
   "source": [
    "project_ids = {\n",
    "    '01': 'open', \n",
    "    '02': 'new',\n",
    "    '03': 'in progress',\n",
    "    '04': 'completed'\n",
    "}\n",
    "\n",
    "if project_ids['02'] == 'new':\n",
    "    project_ids['02'] == 'open'\n",
    "\n",
    "print(project_ids)"
   ]
  },
  {
   "cell_type": "code",
   "execution_count": 8,
   "id": "1783c800",
   "metadata": {},
   "outputs": [
    {
     "name": "stdout",
     "output_type": "stream",
     "text": [
      "['000', '003', '005', '006']\n"
     ]
    }
   ],
   "source": [
    "item = '001'\n",
    "items = ['001', '000', '003', '005', '006']\n",
    "\n",
    "if item in items:\n",
    "    items.remove(item)\n",
    "\n",
    "print(items)"
   ]
  },
  {
   "cell_type": "code",
   "execution_count": 9,
   "id": "af6c5457",
   "metadata": {},
   "outputs": [
    {
     "name": "stdout",
     "output_type": "stream",
     "text": [
      "11,22,33,44,55,66,77,88,99\n"
     ]
    }
   ],
   "source": [
    "result = []\n",
    "for i in range(10,100):\n",
    "    if i % 11 == 0 :\n",
    "        result.append(str(i))\n",
    "print(','.join(result))"
   ]
  },
  {
   "cell_type": "code",
   "execution_count": 10,
   "id": "301bf439",
   "metadata": {},
   "outputs": [
    {
     "name": "stdout",
     "output_type": "stream",
     "text": [
      "11,22,44,55,77,88\n"
     ]
    }
   ],
   "source": [
    "result = []\n",
    "for i in range(10,100):\n",
    "    if i % 11 == 0 and i % 3 != 0:\n",
    "        result.append(str(i))\n",
    "print(','.join(result))"
   ]
  },
  {
   "cell_type": "code",
   "execution_count": 11,
   "id": "438f0d6a",
   "metadata": {},
   "outputs": [
    {
     "name": "stdout",
     "output_type": "stream",
     "text": [
      "[4, 6, 10, 24]\n"
     ]
    }
   ],
   "source": [
    "items = [1, 3, 4, 5, 6, 9, 10, 17, 23, 24]\n",
    "result = []\n",
    "for item in items:\n",
    "    if item % 2 == 0:\n",
    "        result.append(item)\n",
    "        \n",
    "print(result)"
   ]
  },
  {
   "cell_type": "code",
   "execution_count": 12,
   "id": "3bb6f0fa",
   "metadata": {},
   "outputs": [
    {
     "name": "stdout",
     "output_type": "stream",
     "text": [
      "[4, 6, 10, 24]\n"
     ]
    }
   ],
   "source": [
    "result = []\n",
    " \n",
    "for item in items:\n",
    "    if not item % 2 != 0:\n",
    "        result.append(item)\n",
    " \n",
    " \n",
    "print(result)"
   ]
  },
  {
   "cell_type": "code",
   "execution_count": 13,
   "id": "2cca1d0c",
   "metadata": {},
   "outputs": [
    {
     "name": "stdout",
     "output_type": "stream",
     "text": [
      "[1, 5, 3, 2, 4]\n"
     ]
    }
   ],
   "source": [
    "items = [1, 5, 3, 2, 2, 4, 2, 4]\n",
    "result = []\n",
    "for item in items:\n",
    "    if not item in result:\n",
    "        result.append(item)\n",
    "\n",
    "print(result)"
   ]
  },
  {
   "cell_type": "code",
   "execution_count": 14,
   "id": "1ef92f7c",
   "metadata": {},
   "outputs": [
    {
     "name": "stdout",
     "output_type": "stream",
     "text": [
      "['python', 'is', 'a', 'very']\n"
     ]
    }
   ],
   "source": [
    "text = 'Python is a very popular programming language'\n",
    "words = text.split(' ')\n",
    "result = []\n",
    "for idx, words in enumerate(words):\n",
    "    if idx < 4:\n",
    "        result.append(words.lower())\n",
    "        \n",
    "print(result)"
   ]
  },
  {
   "cell_type": "code",
   "execution_count": 15,
   "id": "c1e2c6ab",
   "metadata": {},
   "outputs": [
    {
     "name": "stdout",
     "output_type": "stream",
     "text": [
      "[0.91, 0.55, 0.76]\n"
     ]
    }
   ],
   "source": [
    "probabilities = [0.21, 0.91, 0.34, 0.55, 0.76, 0.02]\n",
    "result = []\n",
    "\n",
    "for prob in probabilities:\n",
    "    if prob >= 0.5:\n",
    "        result.append(prob)\n",
    "\n",
    "print(result)"
   ]
  },
  {
   "cell_type": "code",
   "execution_count": 16,
   "id": "55040b2e",
   "metadata": {},
   "outputs": [
    {
     "name": "stdout",
     "output_type": "stream",
     "text": [
      "[0, 1, 0, 1, 1, 0]\n"
     ]
    }
   ],
   "source": [
    "probabilities = [0.21, 0.91, 0.34, 0.55, 0.76, 0.02]\n",
    "result = []\n",
    "\n",
    "for prob in probabilities:\n",
    "    if prob > 0.5:\n",
    "        result.append(1)\n",
    "\n",
    "    else:\n",
    "        result.append(0)\n",
    "print(result)"
   ]
  },
  {
   "cell_type": "code",
   "execution_count": 17,
   "id": "34a41593",
   "metadata": {},
   "outputs": [
    {
     "name": "stdout",
     "output_type": "stream",
     "text": [
      "{'x': 3, 'y': 4, 'z': 2}\n"
     ]
    }
   ],
   "source": [
    "items = ['x', 'y', 'z', 'y', 'x', 'y', 'y', 'z', 'x']\n",
    "freq = {}\n",
    "\n",
    "for item in items:\n",
    "    if item not in freq.keys():\n",
    "        freq[item] = 1\n",
    "    else:\n",
    "        freq[item] +=1\n",
    "        \n",
    "print(freq)"
   ]
  },
  {
   "cell_type": "code",
   "execution_count": 18,
   "id": "a64b6401",
   "metadata": {},
   "outputs": [
    {
     "name": "stdout",
     "output_type": "stream",
     "text": [
      "['powerful', 'everywhere', 'friendly', 'reasons', 'anything']\n"
     ]
    }
   ],
   "source": [
    "text = \"\"\"Python is powerful... and fast\n",
    "plays well with others\n",
    "runs everywhere\n",
    "is friendly & easy to learn\n",
    "is Open\n",
    "These are some of the reasons people who use Python would rather not use anything else\"\"\"\n",
    "\n",
    "words = text.split()\n",
    "words = [word.lower() for word in words]\n",
    "words = [word.replace('.', '').replace(',', '') for word in words]\n",
    "words = [word for word in words if len(word) > 6]\n",
    " \n",
    " \n",
    "print(words)"
   ]
  },
  {
   "cell_type": "code",
   "execution_count": 19,
   "id": "37c54541",
   "metadata": {},
   "outputs": [
    {
     "name": "stdout",
     "output_type": "stream",
     "text": [
      "DOW JONES COMP\n",
      "DOW JONES INDU\n",
      "DOW JONES TRANS\n",
      "DOW JONES UTIL\n",
      "S&P500\n",
      "S&P/TSX COMP\n"
     ]
    }
   ],
   "source": [
    "indexes = [\n",
    "    'BOVESPA',\n",
    "    'DOW JONES COMP',\n",
    "    'DOW JONES INDU',\n",
    "    'DOW JONES TRANS',\n",
    "    'DOW JONES UTIL',\n",
    "    'IPC',\n",
    "    'IPSA',\n",
    "    'MERVAL',\n",
    "    'NASDAQ COMP',\n",
    "    'NASDAQ100',\n",
    "    'S&P500',\n",
    "    'S&P/TSX COMP',\n",
    "]\n",
    "\n",
    "for index in indexes:\n",
    "    if 'DOW' in index or 'S&P' in index:\n",
    "        print(index)"
   ]
  },
  {
   "cell_type": "code",
   "execution_count": 20,
   "id": "80d653be",
   "metadata": {},
   "outputs": [
    {
     "name": "stdout",
     "output_type": "stream",
     "text": [
      "11B\n",
      "CDR\n",
      "PLW\n",
      "TEN\n"
     ]
    }
   ],
   "source": [
    "gaming = {\n",
    "    '11B': 362.5,\n",
    "    'CDR': 297.0,\n",
    "    'CIG': 0.85,\n",
    "    'PLW': 318.0,\n",
    "    'TEN': 300.0\n",
    "}\n",
    "\n",
    "for ticker, close in gaming.items():\n",
    "    if close > 100.0:\n",
    "        print(ticker)"
   ]
  },
  {
   "cell_type": "code",
   "execution_count": 21,
   "id": "d7a92d88",
   "metadata": {},
   "outputs": [
    {
     "name": "stdout",
     "output_type": "stream",
     "text": [
      "Hello Jack!\n",
      "Hello Leon!\n",
      "Hello Alice!\n",
      "Hello Bob!\n"
     ]
    }
   ],
   "source": [
    "names = ['Jack', 'Leon', 'Alice', '32-3c', 'Bob']\n",
    "\n",
    "for name in names:\n",
    "    if name.isalpha():\n",
    "        print(f'Hello {name}!')"
   ]
  },
  {
   "cell_type": "code",
   "execution_count": 22,
   "id": "95ad1df2",
   "metadata": {},
   "outputs": [
    {
     "name": "stdout",
     "output_type": "stream",
     "text": [
      "True\n"
     ]
    }
   ],
   "source": [
    "list1 = [1, 2, 0]\n",
    "list2 = [4, 5, 6, 1]\n",
    "\n",
    "result = False\n",
    " \n",
    "for item1 in list1:\n",
    "    if item1 in list2:\n",
    "        result = True\n",
    "        break\n",
    " \n",
    " \n",
    "print(result)"
   ]
  },
  {
   "cell_type": "code",
   "execution_count": 23,
   "id": "40f2180b",
   "metadata": {},
   "outputs": [
    {
     "name": "stdout",
     "output_type": "stream",
     "text": [
      "False\n"
     ]
    }
   ],
   "source": [
    "hashtags = ['holiday', 'sport', 'fit', None, 'fashion']\n",
    "\n",
    "result = []\n",
    "\n",
    "for hashtag in hashtags:\n",
    "    if not isinstance(hashtag, str):\n",
    "        result = False \n",
    "        break\n",
    "print(result)"
   ]
  },
  {
   "cell_type": "code",
   "execution_count": 24,
   "id": "a066bc5c",
   "metadata": {},
   "outputs": [
    {
     "name": "stdout",
     "output_type": "stream",
     "text": [
      "13 - prime number\n"
     ]
    }
   ],
   "source": [
    "number = 13\n",
    "if number > 1:\n",
    "    for i in range(2, number):\n",
    "        if number % i == 0:\n",
    "            print(f'{number} - not a prime number')\n",
    "            break\n",
    "    else:\n",
    "        print(f'{number} - prime number')\n",
    "else:\n",
    "    print(f'{number} - not a prime number')"
   ]
  },
  {
   "cell_type": "code",
   "execution_count": 25,
   "id": "43a66324",
   "metadata": {},
   "outputs": [
    {
     "name": "stdout",
     "output_type": "stream",
     "text": [
      "{'11B': [362.5, 'PLN'], 'CDR': [297.0, 'PLN'], 'CIG': [0.85, 'PLN'], 'PLW': [318.0, 'PLN'], 'TEN': [300.0, 'PLN']}\n"
     ]
    }
   ],
   "source": [
    "gaming = {\n",
    "    '11B': [362.5, 'PLN'],\n",
    "    'CDR': [74.25, 'USD'],\n",
    "    'CIG': [0.85, 'PLN'],\n",
    "    'PLW': [79.5, 'USD'],\n",
    "    'TEN': [300.0, 'PLN']\n",
    "}\n",
    "\n",
    "for ticker, info in gaming.items():\n",
    "    if info[1] == 'PLN':\n",
    "        continue\n",
    "    info[0] = info[0]*4.0\n",
    "    info[1] = 'PLN'\n",
    "    \n",
    "print(gaming)"
   ]
  },
  {
   "cell_type": "code",
   "execution_count": 26,
   "id": "1285ec8f",
   "metadata": {},
   "outputs": [
    {
     "name": "stdout",
     "output_type": "stream",
     "text": [
      "Jack\n",
      "Leon\n",
      "Alice\n",
      "Bob\n"
     ]
    }
   ],
   "source": [
    "names = ['Jack', 'Leon', 'Alice', None, 'Bob']\n",
    "\n",
    "for name in names:\n",
    "    if name is None:\n",
    "        continue\n",
    "    print(name)"
   ]
  },
  {
   "cell_type": "code",
   "execution_count": 27,
   "id": "396cbb36",
   "metadata": {},
   "outputs": [
    {
     "name": "stdout",
     "output_type": "stream",
     "text": [
      "2,3,5,7,11,13,17,19,23,29\n"
     ]
    }
   ],
   "source": [
    "counter = 0\n",
    "number = 2\n",
    "prime = []\n",
    " \n",
    "while counter < 10:\n",
    "    for i in range(2, number):\n",
    "        if number % i == 0:\n",
    "            break\n",
    "    else:\n",
    "        prime.append(str(number))\n",
    "        counter += 1\n",
    "    number += 1\n",
    " \n",
    " \n",
    "print(','.join(prime))"
   ]
  },
  {
   "cell_type": "code",
   "execution_count": 28,
   "id": "e43845b5",
   "metadata": {
    "scrolled": true
   },
   "outputs": [
    {
     "name": "stdout",
     "output_type": "stream",
     "text": [
      "Future value: 2025.82 USD. Number of periods: 18 years\n"
     ]
    }
   ],
   "source": [
    "n = 1\n",
    "pv = 1000\n",
    "r = 0.04\n",
    "fv = pv * (1 + r)\n",
    "\n",
    "while fv <= 2000:\n",
    "    fv = fv * (1 + r)\n",
    "    n += 1\n",
    "\n",
    "print(f'Future value: {fv:.2f} USD. Number of periods: {n} years')"
   ]
  },
  {
   "cell_type": "code",
   "execution_count": 29,
   "id": "b0b3da8a",
   "metadata": {},
   "outputs": [
    {
     "name": "stdout",
     "output_type": "stream",
     "text": [
      "Found\n"
     ]
    }
   ],
   "source": [
    "numbers = [1, 2, 3, 4, 5, 6, 7, 8, 9]\n",
    "target = 7\n",
    "start = 0\n",
    "end = len(numbers) - 1\n",
    "flag = None\n",
    "\n",
    "while start <= end:\n",
    "    mid = int((start + end) / 2)\n",
    "    if numbers[mid] == target:\n",
    "        flag = True\n",
    "        break\n",
    "    else:\n",
    "        if numbers[mid] < target:\n",
    "            start = mid + 1\n",
    "        else:\n",
    "            end = mid - 1\n",
    "\n",
    "if flag:\n",
    "    print('Found')\n",
    "else:\n",
    "    print('Not found')\n"
   ]
  },
  {
   "cell_type": "code",
   "execution_count": null,
   "id": "4d6035a2",
   "metadata": {},
   "outputs": [],
   "source": []
  }
 ],
 "metadata": {
  "kernelspec": {
   "display_name": "Python 3 (ipykernel)",
   "language": "python",
   "name": "python3"
  },
  "language_info": {
   "codemirror_mode": {
    "name": "ipython",
    "version": 3
   },
   "file_extension": ".py",
   "mimetype": "text/x-python",
   "name": "python",
   "nbconvert_exporter": "python",
   "pygments_lexer": "ipython3",
   "version": "3.9.12"
  }
 },
 "nbformat": 4,
 "nbformat_minor": 5
}
